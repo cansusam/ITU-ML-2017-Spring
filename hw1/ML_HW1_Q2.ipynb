{
 "cells": [
  {
   "cell_type": "markdown",
   "metadata": {},
   "source": [
    "# Machine Learning Homework 1\n",
    "## Ömercan Susam - 504162517"
   ]
  },
  {
   "cell_type": "markdown",
   "metadata": {},
   "source": [
    "## Question 2a"
   ]
  },
  {
   "cell_type": "code",
   "execution_count": 1,
   "metadata": {
    "collapsed": true,
    "scrolled": true
   },
   "outputs": [],
   "source": [
    "import matplotlib.pyplot as plt\n",
    "import numpy as np\n",
    "import math\n",
    "from itertools import groupby\n",
    "from sklearn.feature_selection import VarianceThreshold\n",
    "\n",
    "classNumber = 10\n",
    "featureNumber = 64\n",
    "trainingDataSet = np.loadtxt('./data/optdigits.tra', delimiter=',');\n",
    "testDataSet = np.loadtxt('./data/optdigits.tes', delimiter=',');\n",
    "\n",
    "trainingDataNumber = trainingDataSet.shape[0]\n",
    "testDataNumber = testDataSet.shape[0]\n",
    "\n",
    "# Find the ordering of the last column (in increasing order)\n",
    "ind = np.argsort(trainingDataSet[:, 64])\n",
    "# Return the matrix with rows in the specified order\n",
    "trainingDataSet = trainingDataSet[ind]\n",
    "trainingLabels = trainingDataSet[:, 64]\n",
    "trainingData = trainingDataSet[:, 0:64]\n",
    "\n",
    "# Find the ordering of the last column (in increasing order)\n",
    "ind = np.argsort(testDataSet[:, 64])\n",
    "# Return the matrix with rows in the specified order\n",
    "testDataSet = testDataSet[ind]\n",
    "testLabels = testDataSet[:, 64]\n",
    "testData = testDataSet[:, 0:64]\n",
    "\n",
    "# find variances\n",
    "selector = VarianceThreshold()\n",
    "selector.fit_transform(trainingData);\n",
    "trainingDataVariances = np.array(selector.variances_)\n",
    "\n",
    "# eliminate data with zero variances\n",
    "trainingDataEliminated = trainingData[:,trainingDataVariances != 0];\n",
    "testDataEliminated = testData[:,trainingDataVariances != 0];\n",
    "\n",
    "numberOfEliminatedFeaturesTraining = trainingDataEliminated.shape[1]\n",
    "\n",
    "meansOfClasses = np.zeros((classNumber,numberOfEliminatedFeaturesTraining));\n",
    "priorProbOfClasses = np.zeros(classNumber);\n",
    "covariance = np.zeros((numberOfEliminatedFeaturesTraining,numberOfEliminatedFeaturesTraining));\n",
    "for x in range(0,classNumber):\n",
    "    dataOfTheClass = np.array(trainingDataEliminated[(trainingLabels == x).ravel(),:]);\n",
    "    meansOfClasses[x,:] = dataOfTheClass.mean(axis=0);\n",
    "    priorProbOfClasses[x] = dataOfTheClass.shape[0]/trainingDataNumber;\n",
    "    covariance = covariance + priorProbOfClasses[x] * np.cov(dataOfTheClass, rowvar=False);\n"
   ]
  },
  {
   "cell_type": "markdown",
   "metadata": {},
   "source": [
    "\\begin{align}\n",
    "g_i(x) & = -\\frac{1}{2} \\sum\\limits_{j=1}^d \\Bigg(\\frac{x_j^t - m_{ij}}{s_j}\\Bigg)^2 + \\log{\\hat{P} (C_i)}\n",
    "\\end{align}"
   ]
  },
  {
   "cell_type": "code",
   "execution_count": 2,
   "metadata": {
    "collapsed": true
   },
   "outputs": [],
   "source": [
    "def naiveBias(sample, mean, comm_covar, priors, classID):\n",
    "    sum = 0\n",
    "    for x in range(0, len(sample)):\n",
    "        sum = sum + (((sample[x] - mean[classID,x]))**2)/comm_covar[x,x];\n",
    "    return  ((-1/2) * sum + math.log(priors[classID]));"
   ]
  },
  {
   "cell_type": "code",
   "execution_count": 3,
   "metadata": {},
   "outputs": [
    {
     "name": "stdout",
     "output_type": "stream",
     "text": [
      "Naive bias test data accuracy: \n",
      "89.316 %\n",
      "Naive bias test data overall error: \n",
      "10.684 %\n"
     ]
    }
   ],
   "source": [
    "results = np.zeros(testDataNumber);\n",
    "for x in range (0,testDataNumber):\n",
    "    nbPredict = float(\"-inf\");\n",
    "    for classID in range(0,classNumber):\n",
    "        nbPost = naiveBias(testDataEliminated[x,:], meansOfClasses, covariance, priorProbOfClasses, classID);\n",
    "        if (nbPost > nbPredict):\n",
    "            nbPredict = nbPost\n",
    "            results[x] = classID\n",
    "\n",
    "correctClassifications = 0\n",
    "for x in range(0,results.shape[0]):\n",
    "    if(results[x] == testLabels[x]):\n",
    "        correctClassifications += 1\n",
    "\n",
    "correctRatio = correctClassifications / testDataNumber;\n",
    "        \n",
    "print(\"Naive bias test data accuracy: \")\n",
    "print(float(\"%0.3f\"%(100*(correctRatio))),\"%\")\n",
    "print(\"Naive bias test data overall error: \")\n",
    "print(float(\"%0.3f\"%(100*(1-correctRatio))),\"%\")"
   ]
  },
  {
   "cell_type": "code",
   "execution_count": 4,
   "metadata": {},
   "outputs": [
    {
     "name": "stdout",
     "output_type": "stream",
     "text": [
      "Naive bias training data accuracy: \n",
      "91.42 %\n",
      "Naive bias training data overall error: \n",
      "8.58 %\n"
     ]
    }
   ],
   "source": [
    "resultsTrain = np.zeros(trainingDataNumber);\n",
    "for x in range (0,trainingDataNumber):\n",
    "    nbPredict = float(\"-inf\");\n",
    "    for classID in range(0,classNumber):\n",
    "        nbPost = naiveBias(trainingDataEliminated[x,:], meansOfClasses, covariance, priorProbOfClasses, classID);\n",
    "        if (nbPost > nbPredict):\n",
    "            nbPredict = nbPost\n",
    "            resultsTrain[x] = classID\n",
    "\n",
    "correctClassificationsTrain = 0\n",
    "for x in range(0,resultsTrain.shape[0]):\n",
    "    if(resultsTrain[x] == trainingLabels[x]):\n",
    "        correctClassificationsTrain += 1\n",
    "\n",
    "correctRatioTrain = correctClassificationsTrain / trainingDataNumber;\n",
    "        \n",
    "print(\"Naive bias training data accuracy: \")\n",
    "print(float(\"%0.3f\"%(100*(correctRatioTrain))),\"%\")\n",
    "print(\"Naive bias training data overall error: \")\n",
    "print(float(\"%0.3f\"%(100*(1-correctRatioTrain))),\"%\")"
   ]
  },
  {
   "cell_type": "code",
   "execution_count": 5,
   "metadata": {
    "scrolled": false
   },
   "outputs": [
    {
     "name": "stdout",
     "output_type": "stream",
     "text": [
      "Class\t Accuracy\t\n",
      "0 \t 99.438 %\t\n",
      "1 \t 74.176 %\t\n",
      "2 \t 88.136 %\t\n",
      "3 \t 86.339 %\t\n",
      "4 \t 93.923 %\t\n",
      "5 \t 94.505 %\t\n",
      "6 \t 96.133 %\t\n",
      "7 \t 96.648 %\t\n",
      "8 \t 78.736 %\t\n",
      "9 \t 85.0 %\t\n"
     ]
    }
   ],
   "source": [
    "# class frequencies\n",
    "freq = np.array([len(list(group)) for key, group in groupby(testLabels)])\n",
    "\n",
    "matchingClassNumbers = np.zeros((classNumber))\n",
    "freqResults = np.zeros((classNumber))\n",
    "for x in range(0,classNumber):\n",
    "    matchingClassIndex = (results == x) & (testLabels == x)\n",
    "    matchingClassNumbers[x] = sum(matchingClassIndex)\n",
    "    freqResults[x] = matchingClassNumbers[x] / freq[x]\n",
    "\n",
    "# find results for accuracy\n",
    "print(\"Class\\t\",\"Accuracy\\t\")\n",
    "freqMatrix = np.zeros((classNumber,classNumber))\n",
    "for x in range(0,classNumber):\n",
    "    subsetOfMust = results[testLabels == x]\n",
    "    for y in range(0,classNumber):\n",
    "        freqMatrix[x,y] = sum(subsetOfMust == y)\n",
    "    print(x,\"\\t\",float(\"%0.3f\"%(freqResults[x]*100)),\"%\\t\")\n"
   ]
  },
  {
   "cell_type": "code",
   "execution_count": 6,
   "metadata": {
    "scrolled": true
   },
   "outputs": [
    {
     "data": {
      "image/png": "[encoded data removed]",
      "text/plain": [
       "<matplotlib.figure.Figure at 0x1046f0978>"
      ]
     },
     "metadata": {},
     "output_type": "display_data"
    }
   ],
   "source": [
    "# confusion matrix calculation\n",
    "confusionMatrix = np.zeros((classNumber,classNumber));\n",
    "for x in range(0,testDataNumber):\n",
    "    prediction = int(results[x]);\n",
    "    actual = int(testLabels[x]);\n",
    "    confusionMatrix[actual,prediction] = confusionMatrix[actual,prediction] + 1/freq[actual];\n",
    "\n",
    "# plot confusion matrix\n",
    "fig, ax1 = plt.subplots(1,1)\n",
    "ax1.imshow(confusionMatrix, cmap='Blues', alpha=.9,interpolation='nearest')\n",
    "ax1.set_xticks(np.arange(0, 10, 1))\n",
    "ax1.set_yticks(np.arange(0, 10, 1))\n",
    "plt.show()"
   ]
  }
 ],
 "metadata": {
  "kernelspec": {
   "display_name": "Python 3",
   "language": "python",
   "name": "python3"
  },
  "language_info": {
   "codemirror_mode": {
    "name": "ipython",
    "version": 3
   },
   "file_extension": ".py",
   "mimetype": "text/x-python",
   "name": "python",
   "nbconvert_exporter": "python",
   "pygments_lexer": "ipython3",
   "version": "3.6.1"
  }
 },
 "nbformat": 4,
 "nbformat_minor": 2
}
